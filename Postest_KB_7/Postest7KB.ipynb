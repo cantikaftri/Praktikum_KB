{
 "cells": [
  {
   "cell_type": "markdown",
   "id": "9e07fb3c",
   "metadata": {},
   "source": [
    "## CANTIKA FITRI AYU DARMAYANTI 2009106045"
   ]
  },
  {
   "cell_type": "code",
   "execution_count": 1,
   "id": "3c5f412a",
   "metadata": {},
   "outputs": [],
   "source": [
    "import tensorflow as tf"
   ]
  },
  {
   "cell_type": "markdown",
   "id": "3daed499",
   "metadata": {},
   "source": [
    "## tensor dengan shape(5,5)"
   ]
  },
  {
   "cell_type": "code",
   "execution_count": 2,
   "id": "c4b6da74",
   "metadata": {},
   "outputs": [
    {
     "data": {
      "text/plain": [
       "array([[-0.8113182 ,  1.4845988 ,  0.06532937, -2.4427042 ,  0.0992484 ],\n",
       "       [ 0.5912243 ,  0.59282297, -2.1229296 , -0.72289723, -0.05627038],\n",
       "       [ 0.6435448 , -0.26432407,  1.8566332 ,  0.5678417 , -0.3828359 ],\n",
       "       [-1.4853433 ,  1.2617711 , -0.02530608, -0.2646297 ,  1.5328138 ],\n",
       "       [-1.7429771 , -0.43789294, -0.56601   ,  0.32066926,  1.132831  ]],\n",
       "      dtype=float32)"
      ]
     },
     "execution_count": 2,
     "metadata": {},
     "output_type": "execute_result"
    }
   ],
   "source": [
    "random_tensor = tf.random.normal([5,5],mean=0,stddev=1,seed=1)\n",
    "\n",
    "#Pengecekan nilai constant\n",
    "random_tensor.numpy()"
   ]
  },
  {
   "cell_type": "markdown",
   "id": "56289377",
   "metadata": {},
   "source": [
    "## List dengan shape(5,5)"
   ]
  },
  {
   "cell_type": "code",
   "execution_count": 30,
   "id": "27c0238d",
   "metadata": {},
   "outputs": [
    {
     "data": {
      "text/plain": [
       "array([[ 2.,  3.,  5.,  7., 11.],\n",
       "       [13., 17., 19., 23., 29.],\n",
       "       [31., 37., 41., 43., 47.],\n",
       "       [53., 59., 61., 67., 71.],\n",
       "       [73., 79., 83., 89., 97.]], dtype=float32)"
      ]
     },
     "execution_count": 30,
     "metadata": {},
     "output_type": "execute_result"
    }
   ],
   "source": [
    "#Pembuatan list yang akan dimasukkan kedalam Tensor\n",
    "prima = [[2,3,5,7,11],[13,17,19,23,29],[31,37,41,43,47],[53,59,61,67,71],[73,79,83,89,97]]\n",
    "\n",
    "prime_tensor = tf.convert_to_tensor(prima, dtype=tf.float32)\n",
    "\n",
    "#Pengecekan nilai constant\n",
    "prime_tensor.numpy()"
   ]
  },
  {
   "cell_type": "markdown",
   "id": "d0d809fd",
   "metadata": {},
   "source": [
    "## Menampilkan Dimensi random_tensor"
   ]
  },
  {
   "cell_type": "code",
   "execution_count": 4,
   "id": "26a8c872",
   "metadata": {},
   "outputs": [
    {
     "data": {
      "text/plain": [
       "TensorShape([5, 5])"
      ]
     },
     "execution_count": 4,
     "metadata": {},
     "output_type": "execute_result"
    }
   ],
   "source": [
    "random_tensor.get_shape()"
   ]
  },
  {
   "cell_type": "code",
   "execution_count": 5,
   "id": "743111c7",
   "metadata": {},
   "outputs": [
    {
     "data": {
      "text/plain": [
       "TensorShape([5, 5])"
      ]
     },
     "execution_count": 5,
     "metadata": {},
     "output_type": "execute_result"
    }
   ],
   "source": [
    "random_tensor.shape"
   ]
  },
  {
   "cell_type": "markdown",
   "id": "240d3d3f",
   "metadata": {},
   "source": [
    "## Menampilkan Dimensi prime_tensor"
   ]
  },
  {
   "cell_type": "code",
   "execution_count": 6,
   "id": "38a11741",
   "metadata": {},
   "outputs": [
    {
     "data": {
      "text/plain": [
       "array([5, 5])"
      ]
     },
     "execution_count": 6,
     "metadata": {},
     "output_type": "execute_result"
    }
   ],
   "source": [
    "tf.shape(prime_tensor).numpy()"
   ]
  },
  {
   "cell_type": "code",
   "execution_count": 7,
   "id": "2accc9bf",
   "metadata": {},
   "outputs": [
    {
     "data": {
      "text/plain": [
       "TensorShape([5, 5])"
      ]
     },
     "execution_count": 7,
     "metadata": {},
     "output_type": "execute_result"
    }
   ],
   "source": [
    "prime_tensor.shape"
   ]
  },
  {
   "cell_type": "markdown",
   "id": "af1cec8e",
   "metadata": {},
   "source": [
    "## Perhitungan Aritmetika"
   ]
  },
  {
   "cell_type": "markdown",
   "id": "485fa25b",
   "metadata": {},
   "source": [
    "#### TAMBAH"
   ]
  },
  {
   "cell_type": "code",
   "execution_count": 8,
   "id": "c76c578a",
   "metadata": {},
   "outputs": [
    {
     "name": "stdout",
     "output_type": "stream",
     "text": [
      "tf.Tensor(\n",
      "[[ 1.1886818  4.4845986  5.0653296  4.557296  11.099248 ]\n",
      " [13.591225  17.592823  16.877071  22.277103  28.94373  ]\n",
      " [31.643545  36.735676  42.856632  43.56784   46.617165 ]\n",
      " [51.514656  60.261772  60.974693  66.73537   72.532814 ]\n",
      " [71.25702   78.5621    82.43399   89.32067   98.13283  ]], shape=(5, 5), dtype=float32)\n"
     ]
    }
   ],
   "source": [
    "print(tf.add(random_tensor, prime_tensor))"
   ]
  },
  {
   "cell_type": "markdown",
   "id": "4c89b444",
   "metadata": {},
   "source": [
    "#### KURANG"
   ]
  },
  {
   "cell_type": "code",
   "execution_count": 9,
   "id": "e5af4599",
   "metadata": {},
   "outputs": [
    {
     "name": "stdout",
     "output_type": "stream",
     "text": [
      "tf.Tensor(\n",
      "[[ -2.8113182  -1.5154012  -4.9346704  -9.442704  -10.900752 ]\n",
      " [-12.408775  -16.407177  -21.122929  -23.722897  -29.05627  ]\n",
      " [-30.356455  -37.264324  -39.143368  -42.43216   -47.382835 ]\n",
      " [-54.485344  -57.738228  -61.025307  -67.26463   -69.467186 ]\n",
      " [-74.74298   -79.4379    -83.56601   -88.67933   -95.86717  ]], shape=(5, 5), dtype=float32)\n"
     ]
    }
   ],
   "source": [
    "print(tf.subtract(random_tensor, prime_tensor))"
   ]
  },
  {
   "cell_type": "markdown",
   "id": "b68d5b26",
   "metadata": {},
   "source": [
    "#### PERKALIAN"
   ]
  },
  {
   "cell_type": "code",
   "execution_count": 10,
   "id": "0c4a3293",
   "metadata": {},
   "outputs": [
    {
     "name": "stdout",
     "output_type": "stream",
     "text": [
      "tf.Tensor(\n",
      "[[  -1.6226364     4.4537964     0.32664686  -17.09893       1.0917324 ]\n",
      " [   7.685916     10.077991    -40.335663    -16.626637     -1.6318411 ]\n",
      " [  19.949888     -9.77999      76.12196      24.417194    -17.993286  ]\n",
      " [ -78.7232       74.444496     -1.5436709   -17.73019     108.82978   ]\n",
      " [-127.237335    -34.593544    -46.97883      28.539564    109.884605  ]], shape=(5, 5), dtype=float32)\n"
     ]
    }
   ],
   "source": [
    "print(tf.multiply(random_tensor, prime_tensor))"
   ]
  },
  {
   "cell_type": "markdown",
   "id": "9c5d5fb0",
   "metadata": {},
   "source": [
    "#### PEMBAGIAN"
   ]
  },
  {
   "cell_type": "code",
   "execution_count": 11,
   "id": "64fc168b",
   "metadata": {},
   "outputs": [
    {
     "name": "stdout",
     "output_type": "stream",
     "text": [
      "tf.Tensor(\n",
      "[[-4.0565911e-01  4.9486625e-01  1.3065875e-02 -3.4895775e-01\n",
      "   9.0225823e-03]\n",
      " [ 4.5478795e-02  3.4871940e-02 -1.1173314e-01 -3.1430315e-02\n",
      "  -1.9403580e-03]\n",
      " [ 2.0759510e-02 -7.1438937e-03  4.5283735e-02  1.3205621e-02\n",
      "  -8.1454450e-03]\n",
      " [-2.8025346e-02  2.1385951e-02 -4.1485377e-04 -3.9496967e-03\n",
      "   2.1588927e-02]\n",
      " [-2.3876399e-02 -5.5429488e-03 -6.8193977e-03  3.6030253e-03\n",
      "   1.1678670e-02]], shape=(5, 5), dtype=float32)\n"
     ]
    }
   ],
   "source": [
    "print(tf.divide(random_tensor, prime_tensor))"
   ]
  },
  {
   "cell_type": "markdown",
   "id": "51d729b9",
   "metadata": {},
   "source": [
    "#### PANGKAT"
   ]
  },
  {
   "cell_type": "code",
   "execution_count": 12,
   "id": "7a7afb3f",
   "metadata": {},
   "outputs": [
    {
     "name": "stdout",
     "output_type": "stream",
     "text": [
      "tf.Tensor(\n",
      "[[ 6.5823728e-01  3.2721055e+00  1.1899876e-06 -5.1891492e+02\n",
      "   9.2036214e-12]\n",
      " [ 1.0783996e-03  1.3795117e-04 -1.6284565e+06 -5.7380047e-04\n",
      "  -5.7294839e-37]\n",
      " [ 1.1639711e-06 -4.1596646e-22  1.0417667e+11  2.7025481e-11\n",
      "  -2.5211261e-20]\n",
      " [-1.2788605e+09  9.0751462e+05 -0.0000000e+00 -0.0000000e+00\n",
      "   1.4782479e+13]\n",
      " [-4.1142766e+17 -4.6565877e-29 -3.0507073e-21  0.0000000e+00\n",
      "   1.7948009e+05]], shape=(5, 5), dtype=float32)\n"
     ]
    }
   ],
   "source": [
    "print(tf.pow(random_tensor, prime_tensor))"
   ]
  },
  {
   "cell_type": "markdown",
   "id": "0ab01b05",
   "metadata": {},
   "source": [
    "#### LOGARITMA"
   ]
  },
  {
   "cell_type": "code",
   "execution_count": 13,
   "id": "41edc135",
   "metadata": {},
   "outputs": [
    {
     "name": "stdout",
     "output_type": "stream",
     "text": [
      "tf.Tensor(\n",
      "[[        nan  0.39514455 -2.7283134          nan -2.3101294 ]\n",
      " [-0.5255598  -0.52285945         nan         nan         nan]\n",
      " [-0.44076362         nan  0.61876476 -0.5659126          nan]\n",
      " [        nan  0.23251635         nan         nan  0.42710513]\n",
      " [        nan         nan         nan -1.1373451   0.12471979]], shape=(5, 5), dtype=float32)\n"
     ]
    }
   ],
   "source": [
    "print(tf.math.log(random_tensor, prime_tensor))"
   ]
  },
  {
   "cell_type": "markdown",
   "id": "88a332d4",
   "metadata": {},
   "source": [
    "## Nilai Maksimal dan Minimal Variable random_tensor"
   ]
  },
  {
   "cell_type": "markdown",
   "id": "37aab8be",
   "metadata": {},
   "source": [
    "#### Nilai Maximum"
   ]
  },
  {
   "cell_type": "code",
   "execution_count": 14,
   "id": "8264c808",
   "metadata": {},
   "outputs": [
    {
     "name": "stdout",
     "output_type": "stream",
     "text": [
      "Nilai bedasarkan kolom :  [2 0 2 2 3]\n"
     ]
    }
   ],
   "source": [
    "print(\"Nilai bedasarkan kolom : \",tf.argmax(random_tensor, axis=0).numpy())"
   ]
  },
  {
   "cell_type": "code",
   "execution_count": 15,
   "id": "a5187853",
   "metadata": {},
   "outputs": [
    {
     "name": "stdout",
     "output_type": "stream",
     "text": [
      "Nilai bedasarkan baris :  [1 1 2 4 4]\n"
     ]
    }
   ],
   "source": [
    "print(\"Nilai bedasarkan baris : \",tf.argmax(random_tensor, axis=1).numpy())"
   ]
  },
  {
   "cell_type": "code",
   "execution_count": 19,
   "id": "5c998994",
   "metadata": {},
   "outputs": [
    {
     "name": "stdout",
     "output_type": "stream",
     "text": [
      "tf.Tensor(\n",
      "[[1 4 2 0 3]\n",
      " [1 0 4 3 2]\n",
      " [2 0 3 1 4]\n",
      " [4 1 2 3 0]\n",
      " [4 3 1 2 0]], shape=(5, 5), dtype=int32)\n"
     ]
    }
   ],
   "source": [
    "#indeks yang diurutkan\n",
    "print(tf.argsort(random_tensor, direction='DESCENDING'))"
   ]
  },
  {
   "cell_type": "code",
   "execution_count": 20,
   "id": "695c29fa",
   "metadata": {},
   "outputs": [
    {
     "name": "stdout",
     "output_type": "stream",
     "text": [
      "tf.Tensor(\n",
      "[[ 1.4845988   0.0992484   0.06532937 -0.8113182  -2.4427042 ]\n",
      " [ 0.59282297  0.5912243  -0.05627038 -0.72289723 -2.1229296 ]\n",
      " [ 1.8566332   0.6435448   0.5678417  -0.26432407 -0.3828359 ]\n",
      " [ 1.5328138   1.2617711  -0.02530608 -0.2646297  -1.4853433 ]\n",
      " [ 1.132831    0.32066926 -0.43789294 -0.56601    -1.7429771 ]], shape=(5, 5), dtype=float32)\n"
     ]
    }
   ],
   "source": [
    "#tensor yang diurutkan\n",
    "print(tf.sort(random_tensor, direction='DESCENDING'))"
   ]
  },
  {
   "cell_type": "markdown",
   "id": "494a4530",
   "metadata": {},
   "source": [
    "#### Nilai Minimum"
   ]
  },
  {
   "cell_type": "code",
   "execution_count": 21,
   "id": "a5e939f2",
   "metadata": {},
   "outputs": [
    {
     "name": "stdout",
     "output_type": "stream",
     "text": [
      "Nilai bedasarkan kolom :  [4 4 1 0 2]\n"
     ]
    }
   ],
   "source": [
    "print(\"Nilai bedasarkan kolom : \",tf.argmin(random_tensor, axis=0).numpy())"
   ]
  },
  {
   "cell_type": "code",
   "execution_count": 22,
   "id": "6ff7f65f",
   "metadata": {},
   "outputs": [
    {
     "name": "stdout",
     "output_type": "stream",
     "text": [
      "Nilai bedasarkan baris :  [3 2 4 0 0]\n"
     ]
    }
   ],
   "source": [
    "print(\"Nilai bedasarkan baris : \",tf.argmin(random_tensor, axis=1).numpy())"
   ]
  },
  {
   "cell_type": "code",
   "execution_count": 24,
   "id": "a7d4c85f",
   "metadata": {},
   "outputs": [
    {
     "name": "stdout",
     "output_type": "stream",
     "text": [
      "tf.Tensor(\n",
      "[[3 0 2 4 1]\n",
      " [2 3 4 0 1]\n",
      " [4 1 3 0 2]\n",
      " [0 3 2 1 4]\n",
      " [0 2 1 3 4]], shape=(5, 5), dtype=int32)\n"
     ]
    }
   ],
   "source": [
    "#indeks yang diurutkan\n",
    "print(tf.argsort(random_tensor, direction='ASCENDING'))"
   ]
  },
  {
   "cell_type": "code",
   "execution_count": 25,
   "id": "1f7c28e9",
   "metadata": {},
   "outputs": [
    {
     "name": "stdout",
     "output_type": "stream",
     "text": [
      "tf.Tensor(\n",
      "[[-2.4427042  -0.8113182   0.06532937  0.0992484   1.4845988 ]\n",
      " [-2.1229296  -0.72289723 -0.05627038  0.5912243   0.59282297]\n",
      " [-0.3828359  -0.26432407  0.5678417   0.6435448   1.8566332 ]\n",
      " [-1.4853433  -0.2646297  -0.02530608  1.2617711   1.5328138 ]\n",
      " [-1.7429771  -0.56601    -0.43789294  0.32066926  1.132831  ]], shape=(5, 5), dtype=float32)\n"
     ]
    }
   ],
   "source": [
    "#tensor yang diurutkan\n",
    "print(tf.sort(random_tensor, direction='ASCENDING'))"
   ]
  },
  {
   "cell_type": "markdown",
   "id": "12c92453",
   "metadata": {},
   "source": [
    "## CONCATENATION"
   ]
  },
  {
   "cell_type": "code",
   "execution_count": 26,
   "id": "bfa6605a",
   "metadata": {},
   "outputs": [
    {
     "name": "stdout",
     "output_type": "stream",
     "text": [
      "Size original : (5, 5) (5, 5)\n"
     ]
    }
   ],
   "source": [
    "print(f\"Size original : {random_tensor.shape} {prime_tensor.shape}\")"
   ]
  },
  {
   "cell_type": "code",
   "execution_count": 27,
   "id": "a59f9b85",
   "metadata": {},
   "outputs": [
    {
     "name": "stdout",
     "output_type": "stream",
     "text": [
      "Size data yang sudah di concat : (10, 5)\n"
     ]
    }
   ],
   "source": [
    "#gabungkan kedua sampel\n",
    "concat_sample = tf.concat([random_tensor, prime_tensor], axis=0)\n",
    "print(f\"Size data yang sudah di concat : {concat_sample.shape}\")"
   ]
  },
  {
   "cell_type": "markdown",
   "id": "0bebe880",
   "metadata": {},
   "source": [
    "## SORTING (DESCENDING)"
   ]
  },
  {
   "cell_type": "code",
   "execution_count": 28,
   "id": "cefee0ed",
   "metadata": {},
   "outputs": [
    {
     "name": "stdout",
     "output_type": "stream",
     "text": [
      "tf.Tensor(\n",
      "[[ 1.4845988   0.0992484   0.06532937 -0.8113182  -2.4427042 ]\n",
      " [ 0.59282297  0.5912243  -0.05627038 -0.72289723 -2.1229296 ]\n",
      " [ 1.8566332   0.6435448   0.5678417  -0.26432407 -0.3828359 ]\n",
      " [ 1.5328138   1.2617711  -0.02530608 -0.2646297  -1.4853433 ]\n",
      " [ 1.132831    0.32066926 -0.43789294 -0.56601    -1.7429771 ]], shape=(5, 5), dtype=float32)\n"
     ]
    }
   ],
   "source": [
    "print(tf.sort(random_tensor, direction=\"DESCENDING\"))"
   ]
  },
  {
   "cell_type": "code",
   "execution_count": 29,
   "id": "0f0a21c5",
   "metadata": {},
   "outputs": [
    {
     "name": "stdout",
     "output_type": "stream",
     "text": [
      "tf.Tensor(\n",
      "[[11.  7.  5.  3.  2.]\n",
      " [29. 23. 19. 17. 13.]\n",
      " [47. 43. 41. 37. 31.]\n",
      " [71. 67. 61. 59. 53.]\n",
      " [97. 89. 83. 79. 73.]], shape=(5, 5), dtype=float32)\n"
     ]
    }
   ],
   "source": [
    "print(tf.sort(prime_tensor, direction=\"DESCENDING\"))"
   ]
  },
  {
   "cell_type": "code",
   "execution_count": null,
   "id": "b5c2db5f",
   "metadata": {},
   "outputs": [],
   "source": []
  }
 ],
 "metadata": {
  "kernelspec": {
   "display_name": "Python 3 (ipykernel)",
   "language": "python",
   "name": "python3"
  },
  "language_info": {
   "codemirror_mode": {
    "name": "ipython",
    "version": 3
   },
   "file_extension": ".py",
   "mimetype": "text/x-python",
   "name": "python",
   "nbconvert_exporter": "python",
   "pygments_lexer": "ipython3",
   "version": "3.10.7"
  }
 },
 "nbformat": 4,
 "nbformat_minor": 5
}
